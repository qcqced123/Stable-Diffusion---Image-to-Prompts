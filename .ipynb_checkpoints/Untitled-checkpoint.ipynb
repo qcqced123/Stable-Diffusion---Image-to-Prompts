{
 "cells": [
  {
   "cell_type": "code",
   "execution_count": 1,
   "id": "b3aa2cbe-b6f0-482c-b370-3bd5e991abd1",
   "metadata": {
    "ExecuteTime": {
     "end_time": "2023-05-12T00:35:31.975395543Z",
     "start_time": "2023-05-12T00:35:30.875303258Z"
    }
   },
   "outputs": [],
   "source": [
    "import torch\n",
    "import pandas as pd\n",
    "from transformers import AutoConfig, AutoModel"
   ]
  },
  {
   "cell_type": "code",
   "execution_count": 2,
   "id": "dbe36f1f",
   "metadata": {
    "ExecuteTime": {
     "end_time": "2023-05-12T00:36:57.898643893Z",
     "start_time": "2023-05-12T00:36:57.834293172Z"
    },
    "collapsed": false,
    "jupyter": {
     "outputs_hidden": false
    }
   },
   "outputs": [
    {
     "data": {
      "text/html": [
       "<div>\n",
       "<style scoped>\n",
       "    .dataframe tbody tr th:only-of-type {\n",
       "        vertical-align: middle;\n",
       "    }\n",
       "\n",
       "    .dataframe tbody tr th {\n",
       "        vertical-align: top;\n",
       "    }\n",
       "\n",
       "    .dataframe thead th {\n",
       "        text-align: right;\n",
       "    }\n",
       "</style>\n",
       "<table border=\"1\" class=\"dataframe\">\n",
       "  <thead>\n",
       "    <tr style=\"text-align: right;\">\n",
       "      <th></th>\n",
       "      <th>image_name</th>\n",
       "      <th>prompt</th>\n",
       "    </tr>\n",
       "  </thead>\n",
       "  <tbody>\n",
       "    <tr>\n",
       "      <th>0</th>\n",
       "      <td>./data_folder/SDDB2_2M_75/SDDB2-images/dc71658...</td>\n",
       "      <td>only memories remain, trending on artstation</td>\n",
       "    </tr>\n",
       "    <tr>\n",
       "      <th>1</th>\n",
       "      <td>./data_folder/SDDB2_2M_75/SDDB2-images/9341f9e...</td>\n",
       "      <td>a painting by edward hopper of a group of men ...</td>\n",
       "    </tr>\n",
       "    <tr>\n",
       "      <th>2</th>\n",
       "      <td>./data_folder/SDDB2_2M_75/SDDB2-images/e37dbf7...</td>\n",
       "      <td>a painting by edward hopper of a glowing human...</td>\n",
       "    </tr>\n",
       "    <tr>\n",
       "      <th>3</th>\n",
       "      <td>./data_folder/SDDB2_2M_75/SDDB2-images/b5e3502...</td>\n",
       "      <td>a painting by edward hopper of the angel of de...</td>\n",
       "    </tr>\n",
       "    <tr>\n",
       "      <th>4</th>\n",
       "      <td>./data_folder/SDDB2_2M_75/SDDB2-images/09c1745...</td>\n",
       "      <td>a painting by edward hopper of a group of four...</td>\n",
       "    </tr>\n",
       "    <tr>\n",
       "      <th>...</th>\n",
       "      <td>...</td>\n",
       "      <td>...</td>\n",
       "    </tr>\n",
       "    <tr>\n",
       "      <th>330136</th>\n",
       "      <td>./data_folder/30k_public/artifacts/sd-img-to-p...</td>\n",
       "      <td>solar sail in space blocking the sun, seen fro...</td>\n",
       "    </tr>\n",
       "    <tr>\n",
       "      <th>330137</th>\n",
       "      <td>./data_folder/30k_public/artifacts/sd-img-to-p...</td>\n",
       "      <td>an extremely high quality hd, a drawing of a b...</td>\n",
       "    </tr>\n",
       "    <tr>\n",
       "      <th>330138</th>\n",
       "      <td>./data_folder/30k_public/artifacts/sd-img-to-p...</td>\n",
       "      <td>felix kelly</td>\n",
       "    </tr>\n",
       "    <tr>\n",
       "      <th>330139</th>\n",
       "      <td>./data_folder/30k_public/artifacts/sd-img-to-p...</td>\n",
       "      <td>game controller sitting on a table with a TV i...</td>\n",
       "    </tr>\n",
       "    <tr>\n",
       "      <th>330140</th>\n",
       "      <td>./data_folder/30k_public/artifacts/sd-img-to-p...</td>\n",
       "      <td>Blender 3d youtube tutorial. Video titled \\'Cr...</td>\n",
       "    </tr>\n",
       "  </tbody>\n",
       "</table>\n",
       "<p>330141 rows × 2 columns</p>\n",
       "</div>"
      ],
      "text/plain": [
       "                                               image_name  \\\n",
       "0       ./data_folder/SDDB2_2M_75/SDDB2-images/dc71658...   \n",
       "1       ./data_folder/SDDB2_2M_75/SDDB2-images/9341f9e...   \n",
       "2       ./data_folder/SDDB2_2M_75/SDDB2-images/e37dbf7...   \n",
       "3       ./data_folder/SDDB2_2M_75/SDDB2-images/b5e3502...   \n",
       "4       ./data_folder/SDDB2_2M_75/SDDB2-images/09c1745...   \n",
       "...                                                   ...   \n",
       "330136  ./data_folder/30k_public/artifacts/sd-img-to-p...   \n",
       "330137  ./data_folder/30k_public/artifacts/sd-img-to-p...   \n",
       "330138  ./data_folder/30k_public/artifacts/sd-img-to-p...   \n",
       "330139  ./data_folder/30k_public/artifacts/sd-img-to-p...   \n",
       "330140  ./data_folder/30k_public/artifacts/sd-img-to-p...   \n",
       "\n",
       "                                                   prompt  \n",
       "0           only memories remain, trending on artstation   \n",
       "1       a painting by edward hopper of a group of men ...  \n",
       "2       a painting by edward hopper of a glowing human...  \n",
       "3       a painting by edward hopper of the angel of de...  \n",
       "4       a painting by edward hopper of a group of four...  \n",
       "...                                                   ...  \n",
       "330136  solar sail in space blocking the sun, seen fro...  \n",
       "330137  an extremely high quality hd, a drawing of a b...  \n",
       "330138                                        felix kelly  \n",
       "330139  game controller sitting on a table with a TV i...  \n",
       "330140  Blender 3d youtube tutorial. Video titled \\'Cr...  \n",
       "\n",
       "[330141 rows x 2 columns]"
      ]
     },
     "execution_count": 2,
     "metadata": {},
     "output_type": "execute_result"
    }
   ],
   "source": [
    "df = pd.read_csv('./dataset_class/all_prompt.csv')\n",
    "df"
   ]
  },
  {
   "cell_type": "code",
   "execution_count": 3,
   "id": "328b5430-0d5e-4005-a6b2-f54a5347bcc7",
   "metadata": {},
   "outputs": [
    {
     "data": {
      "text/html": [
       "<div>\n",
       "<style scoped>\n",
       "    .dataframe tbody tr th:only-of-type {\n",
       "        vertical-align: middle;\n",
       "    }\n",
       "\n",
       "    .dataframe tbody tr th {\n",
       "        vertical-align: top;\n",
       "    }\n",
       "\n",
       "    .dataframe thead th {\n",
       "        text-align: right;\n",
       "    }\n",
       "</style>\n",
       "<table border=\"1\" class=\"dataframe\">\n",
       "  <thead>\n",
       "    <tr style=\"text-align: right;\">\n",
       "      <th></th>\n",
       "      <th>image_name</th>\n",
       "      <th>prompt</th>\n",
       "    </tr>\n",
       "  </thead>\n",
       "  <tbody>\n",
       "    <tr>\n",
       "      <th>0</th>\n",
       "      <td>./dataset_class/data_folder/SDDB2_2M_75/SDDB2-...</td>\n",
       "      <td>only memories remain, trending on artstation</td>\n",
       "    </tr>\n",
       "    <tr>\n",
       "      <th>1</th>\n",
       "      <td>./dataset_class/data_folder/SDDB2_2M_75/SDDB2-...</td>\n",
       "      <td>a painting by edward hopper of a group of men ...</td>\n",
       "    </tr>\n",
       "    <tr>\n",
       "      <th>2</th>\n",
       "      <td>./dataset_class/data_folder/SDDB2_2M_75/SDDB2-...</td>\n",
       "      <td>a painting by edward hopper of a glowing human...</td>\n",
       "    </tr>\n",
       "    <tr>\n",
       "      <th>3</th>\n",
       "      <td>./dataset_class/data_folder/SDDB2_2M_75/SDDB2-...</td>\n",
       "      <td>a painting by edward hopper of the angel of de...</td>\n",
       "    </tr>\n",
       "    <tr>\n",
       "      <th>4</th>\n",
       "      <td>./dataset_class/data_folder/SDDB2_2M_75/SDDB2-...</td>\n",
       "      <td>a painting by edward hopper of a group of four...</td>\n",
       "    </tr>\n",
       "    <tr>\n",
       "      <th>...</th>\n",
       "      <td>...</td>\n",
       "      <td>...</td>\n",
       "    </tr>\n",
       "    <tr>\n",
       "      <th>330136</th>\n",
       "      <td>./dataset_class/data_folder/30k_public/artifac...</td>\n",
       "      <td>solar sail in space blocking the sun, seen fro...</td>\n",
       "    </tr>\n",
       "    <tr>\n",
       "      <th>330137</th>\n",
       "      <td>./dataset_class/data_folder/30k_public/artifac...</td>\n",
       "      <td>an extremely high quality hd, a drawing of a b...</td>\n",
       "    </tr>\n",
       "    <tr>\n",
       "      <th>330138</th>\n",
       "      <td>./dataset_class/data_folder/30k_public/artifac...</td>\n",
       "      <td>felix kelly</td>\n",
       "    </tr>\n",
       "    <tr>\n",
       "      <th>330139</th>\n",
       "      <td>./dataset_class/data_folder/30k_public/artifac...</td>\n",
       "      <td>game controller sitting on a table with a TV i...</td>\n",
       "    </tr>\n",
       "    <tr>\n",
       "      <th>330140</th>\n",
       "      <td>./dataset_class/data_folder/30k_public/artifac...</td>\n",
       "      <td>Blender 3d youtube tutorial. Video titled \\'Cr...</td>\n",
       "    </tr>\n",
       "  </tbody>\n",
       "</table>\n",
       "<p>330141 rows × 2 columns</p>\n",
       "</div>"
      ],
      "text/plain": [
       "                                               image_name  \\\n",
       "0       ./dataset_class/data_folder/SDDB2_2M_75/SDDB2-...   \n",
       "1       ./dataset_class/data_folder/SDDB2_2M_75/SDDB2-...   \n",
       "2       ./dataset_class/data_folder/SDDB2_2M_75/SDDB2-...   \n",
       "3       ./dataset_class/data_folder/SDDB2_2M_75/SDDB2-...   \n",
       "4       ./dataset_class/data_folder/SDDB2_2M_75/SDDB2-...   \n",
       "...                                                   ...   \n",
       "330136  ./dataset_class/data_folder/30k_public/artifac...   \n",
       "330137  ./dataset_class/data_folder/30k_public/artifac...   \n",
       "330138  ./dataset_class/data_folder/30k_public/artifac...   \n",
       "330139  ./dataset_class/data_folder/30k_public/artifac...   \n",
       "330140  ./dataset_class/data_folder/30k_public/artifac...   \n",
       "\n",
       "                                                   prompt  \n",
       "0           only memories remain, trending on artstation   \n",
       "1       a painting by edward hopper of a group of men ...  \n",
       "2       a painting by edward hopper of a glowing human...  \n",
       "3       a painting by edward hopper of the angel of de...  \n",
       "4       a painting by edward hopper of a group of four...  \n",
       "...                                                   ...  \n",
       "330136  solar sail in space blocking the sun, seen fro...  \n",
       "330137  an extremely high quality hd, a drawing of a b...  \n",
       "330138                                        felix kelly  \n",
       "330139  game controller sitting on a table with a TV i...  \n",
       "330140  Blender 3d youtube tutorial. Video titled \\'Cr...  \n",
       "\n",
       "[330141 rows x 2 columns]"
      ]
     },
     "execution_count": 3,
     "metadata": {},
     "output_type": "execute_result"
    }
   ],
   "source": [
    "new_path_list = []\n",
    "for path in df.image_name.to_list():\n",
    "    new_path = './dataset_class' + path[1:]\n",
    "    new_path_list.append(new_path)\n",
    "df['image_name'] = new_path_list\n",
    "df"
   ]
  },
  {
   "cell_type": "code",
   "execution_count": 4,
   "id": "c705ed0d-629b-40c9-aa00-a7e57ae7609b",
   "metadata": {},
   "outputs": [],
   "source": [
    "df.to_csv('final_prompt.csv', index=False)"
   ]
  },
  {
   "cell_type": "code",
   "execution_count": 7,
   "id": "07b3f482-c26e-43df-9f0c-b9de94eb4106",
   "metadata": {},
   "outputs": [
    {
     "data": {
      "text/plain": [
       "torch.Size([16, 197, 768])"
      ]
     },
     "execution_count": 7,
     "metadata": {},
     "output_type": "execute_result"
    }
   ],
   "source": [
    "input_mask_expanded = torch.zeros(16, 197, 768)\n",
    "input_mask_expanded.size()"
   ]
  },
  {
   "cell_type": "code",
   "execution_count": 25,
   "id": "346be2c1-e7fe-4a4c-ade3-aa61c49b8cfb",
   "metadata": {},
   "outputs": [
    {
     "data": {
      "text/plain": [
       "torch.Size([16, 768])"
      ]
     },
     "execution_count": 25,
     "metadata": {},
     "output_type": "execute_result"
    }
   ],
   "source": [
    "sum_embedding = torch.zeros(16, 197, 768)\n",
    "sum_embedding = sum_embedding.sum(1)\n",
    "sum_embedding.size()"
   ]
  },
  {
   "cell_type": "code",
   "execution_count": 22,
   "id": "13043085-8593-41d4-92fe-733a6b48377d",
   "metadata": {},
   "outputs": [
    {
     "data": {
      "text/plain": [
       "torch.Size([16, 768])"
      ]
     },
     "execution_count": 22,
     "metadata": {},
     "output_type": "execute_result"
    }
   ],
   "source": [
    "sum_mask = input_mask_expanded.sum(1)\n",
    "sum_mask = torch.clamp(sum_mask, min=1.5)\n",
    "sum_mask.size()"
   ]
  },
  {
   "cell_type": "code",
   "execution_count": 21,
   "id": "80e4dad0-ee6e-41a1-9e4c-a535d3bd27bf",
   "metadata": {},
   "outputs": [
    {
     "data": {
      "text/plain": [
       "tensor([[1.6667, 1.6667, 1.6667,  ..., 1.6667, 1.6667, 1.6667],\n",
       "        [1.6667, 1.6667, 1.6667,  ..., 1.6667, 1.6667, 1.6667],\n",
       "        [1.6667, 1.6667, 1.6667,  ..., 1.6667, 1.6667, 1.6667],\n",
       "        ...,\n",
       "        [1.6667, 1.6667, 1.6667,  ..., 1.6667, 1.6667, 1.6667],\n",
       "        [1.6667, 1.6667, 1.6667,  ..., 1.6667, 1.6667, 1.6667],\n",
       "        [1.6667, 1.6667, 1.6667,  ..., 1.6667, 1.6667, 1.6667]])"
      ]
     },
     "execution_count": 21,
     "metadata": {},
     "output_type": "execute_result"
    }
   ],
   "source": [
    "tmp_embeddings = sum_embedding / sum_mask\n",
    "tmp_embeddings"
   ]
  },
  {
   "cell_type": "code",
   "execution_count": null,
   "id": "d2e4f003-f741-4667-b653-87dc4db9a0d2",
   "metadata": {},
   "outputs": [],
   "source": [
    "tmp_embeddings.size()"
   ]
  },
  {
   "cell_type": "code",
   "execution_count": 27,
   "id": "4b28d0e8-285e-409f-920f-26567311f0a8",
   "metadata": {},
   "outputs": [
    {
     "data": {
      "text/plain": [
       "torch.Size([16, 768])"
      ]
     },
     "execution_count": 27,
     "metadata": {},
     "output_type": "execute_result"
    }
   ],
   "source": [
    "sum_embedding = torch.zeros(16, 197, 768)\n",
    "torch.mean(sum_embedding, 1).size()"
   ]
  },
  {
   "cell_type": "code",
   "execution_count": 1,
   "id": "b1ae0a9d-8e58-43bb-b0d2-ac259bcdd4a0",
   "metadata": {},
   "outputs": [],
   "source": [
    "import timm, torch\n",
    "style_model = timm.create_model(\n",
    "            'convnext_base',\n",
    "            pretrained=True,\n",
    "            features_only=True, # will be drop head\n",
    "        )\n",
    "device = torch.device('cuda:0' if torch.cuda.is_available() else 'cpu')\n",
    "style_model = style_model.to(device)"
   ]
  },
  {
   "cell_type": "code",
   "execution_count": 11,
   "id": "86cf3755-7f2d-4ac3-ac3f-b7ea5baaee65",
   "metadata": {},
   "outputs": [
    {
     "data": {
      "text/plain": [
       "4"
      ]
     },
     "execution_count": 11,
     "metadata": {},
     "output_type": "execute_result"
    }
   ],
   "source": [
    "test = torch.randn(1, 3, 512, 512)\n",
    "test = test.to(device)\n",
    "result = style_model(test)\n",
    "len(result[)"
   ]
  },
  {
   "cell_type": "code",
   "execution_count": null,
   "id": "b752e024-9873-48d4-9511-391d27ecd844",
   "metadata": {},
   "outputs": [],
   "source": []
  }
 ],
 "metadata": {
  "kernelspec": {
   "display_name": "Python 3 (ipykernel)",
   "language": "python",
   "name": "python3"
  },
  "language_info": {
   "codemirror_mode": {
    "name": "ipython",
    "version": 3
   },
   "file_extension": ".py",
   "mimetype": "text/x-python",
   "name": "python",
   "nbconvert_exporter": "python",
   "pygments_lexer": "ipython3",
   "version": "3.9.13"
  }
 },
 "nbformat": 4,
 "nbformat_minor": 5
}
