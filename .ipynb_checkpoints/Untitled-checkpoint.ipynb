{
 "cells": [
  {
   "cell_type": "code",
   "execution_count": 11,
   "id": "e46f8adc-e509-4de1-97a6-7345390ebf09",
   "metadata": {},
   "outputs": [],
   "source": [
    "import gc\n",
    "import torch\n",
    "import numpy as np\n",
    "import pandas as pd\n",
    "import rasterio\n",
    "from rasterio.enums import Resampling\n",
    "from torch.utils.data import Dataset\n",
    "from torch import Tensor\n",
    "from transformers import AutoProcessor, CLIPImageProcessor\n",
    "from tqdm.auto import tqdm"
   ]
  },
  {
   "cell_type": "code",
   "execution_count": 8,
   "id": "492d7e1d-8cf4-40bc-9c81-fd8d172f90e8",
   "metadata": {},
   "outputs": [],
   "source": [
    "class CFG:\n",
    "    \"\"\" Pipeline Setting \"\"\"\n",
    "    train, test = True, False\n",
    "    checkpoint_dir = './saved/model'\n",
    "    resume, load_pretrained,  state_dict = False, False, '/'\n",
    "    name = 'FBP3_Base_Train_Pipeline'\n",
    "    loop = 'SD2Trainer'\n",
    "    dataset = 'SD2Dataset'  # dataset_class.dataclass.py -> FBPDataset, MPLDataset\n",
    "    model_arch = 'SD2Model'  # model.model.py -> FBPModel, MPLModel\n",
    "    style_model_arch = 'StyleExtractModel'  # model.model.py -> StyleModel\n",
    "    style_model = 'convnext_base_384_in22ft1k'\n",
    "    model = 'openai/clip-vit-large-patch14'\n",
    "\n",
    "    \"\"\" Common Options \"\"\"\n",
    "    wandb = True\n",
    "    optuna = False  # if you want to tune hyperparameter, set True\n",
    "    competition = 'FB3'\n",
    "    seed = 42\n",
    "    cfg_name = 'CFG'\n",
    "    n_gpu = 1\n",
    "    device = torch.device('cuda:0' if torch.cuda.is_available() else 'cpu')\n",
    "    gpu_id = 0\n",
    "    num_workers = 4\n",
    "    \n",
    "    \"\"\" Data Options \"\"\"\n",
    "    batch_size = 256"
   ]
  },
  {
   "cell_type": "code",
   "execution_count": 9,
   "id": "dce01df7-93d3-4f45-a255-43614fcac098",
   "metadata": {},
   "outputs": [
    {
     "data": {
      "text/html": [
       "<div>\n",
       "<style scoped>\n",
       "    .dataframe tbody tr th:only-of-type {\n",
       "        vertical-align: middle;\n",
       "    }\n",
       "\n",
       "    .dataframe tbody tr th {\n",
       "        vertical-align: top;\n",
       "    }\n",
       "\n",
       "    .dataframe thead th {\n",
       "        text-align: right;\n",
       "    }\n",
       "</style>\n",
       "<table border=\"1\" class=\"dataframe\">\n",
       "  <thead>\n",
       "    <tr style=\"text-align: right;\">\n",
       "      <th></th>\n",
       "      <th>image_name</th>\n",
       "      <th>prompt</th>\n",
       "      <th>fold</th>\n",
       "      <th>style_index</th>\n",
       "    </tr>\n",
       "  </thead>\n",
       "  <tbody>\n",
       "    <tr>\n",
       "      <th>0</th>\n",
       "      <td>./dataset_class/data_folder/SDDB2_2M_75/SDDB2-...</td>\n",
       "      <td>only memories remain, trending on artstation</td>\n",
       "      <td>1</td>\n",
       "      <td>149562</td>\n",
       "    </tr>\n",
       "    <tr>\n",
       "      <th>1</th>\n",
       "      <td>./dataset_class/data_folder/SDDB2_2M_75/SDDB2-...</td>\n",
       "      <td>a painting by edward hopper of a group of men ...</td>\n",
       "      <td>2</td>\n",
       "      <td>209980</td>\n",
       "    </tr>\n",
       "    <tr>\n",
       "      <th>2</th>\n",
       "      <td>./dataset_class/data_folder/SDDB2_2M_75/SDDB2-...</td>\n",
       "      <td>a painting by edward hopper of a glowing human...</td>\n",
       "      <td>3</td>\n",
       "      <td>160493</td>\n",
       "    </tr>\n",
       "    <tr>\n",
       "      <th>3</th>\n",
       "      <td>./dataset_class/data_folder/SDDB2_2M_75/SDDB2-...</td>\n",
       "      <td>a painting by edward hopper of the angel of de...</td>\n",
       "      <td>2</td>\n",
       "      <td>194815</td>\n",
       "    </tr>\n",
       "    <tr>\n",
       "      <th>4</th>\n",
       "      <td>./dataset_class/data_folder/SDDB2_2M_75/SDDB2-...</td>\n",
       "      <td>a painting by edward hopper of a group of four...</td>\n",
       "      <td>0</td>\n",
       "      <td>193190</td>\n",
       "    </tr>\n",
       "    <tr>\n",
       "      <th>...</th>\n",
       "      <td>...</td>\n",
       "      <td>...</td>\n",
       "      <td>...</td>\n",
       "      <td>...</td>\n",
       "    </tr>\n",
       "    <tr>\n",
       "      <th>218197</th>\n",
       "      <td>./dataset_class/data_folder/ChatGPT_SDDB2/chat...</td>\n",
       "      <td>A vintage photograph of a jazz band made up of...</td>\n",
       "      <td>4</td>\n",
       "      <td>177672</td>\n",
       "    </tr>\n",
       "    <tr>\n",
       "      <th>218198</th>\n",
       "      <td>./dataset_class/data_folder/ChatGPT_SDDB2/chat...</td>\n",
       "      <td>A vibrant collage depicting a cyborg giraffe, ...</td>\n",
       "      <td>2</td>\n",
       "      <td>171345</td>\n",
       "    </tr>\n",
       "    <tr>\n",
       "      <th>218199</th>\n",
       "      <td>./dataset_class/data_folder/ChatGPT_SDDB2/chat...</td>\n",
       "      <td>A minimalist ink drawing of a yeti and a polar...</td>\n",
       "      <td>2</td>\n",
       "      <td>195483</td>\n",
       "    </tr>\n",
       "    <tr>\n",
       "      <th>218200</th>\n",
       "      <td>./dataset_class/data_folder/ChatGPT_SDDB2/chat...</td>\n",
       "      <td>A surrealist portrayal of a dreamy sky filled ...</td>\n",
       "      <td>1</td>\n",
       "      <td>82530</td>\n",
       "    </tr>\n",
       "    <tr>\n",
       "      <th>218201</th>\n",
       "      <td>./dataset_class/data_folder/ChatGPT_SDDB2/chat...</td>\n",
       "      <td>A lively scene of a roller-skating marathon wi...</td>\n",
       "      <td>0</td>\n",
       "      <td>145484</td>\n",
       "    </tr>\n",
       "  </tbody>\n",
       "</table>\n",
       "<p>218202 rows × 4 columns</p>\n",
       "</div>"
      ],
      "text/plain": [
       "                                               image_name  \\\n",
       "0       ./dataset_class/data_folder/SDDB2_2M_75/SDDB2-...   \n",
       "1       ./dataset_class/data_folder/SDDB2_2M_75/SDDB2-...   \n",
       "2       ./dataset_class/data_folder/SDDB2_2M_75/SDDB2-...   \n",
       "3       ./dataset_class/data_folder/SDDB2_2M_75/SDDB2-...   \n",
       "4       ./dataset_class/data_folder/SDDB2_2M_75/SDDB2-...   \n",
       "...                                                   ...   \n",
       "218197  ./dataset_class/data_folder/ChatGPT_SDDB2/chat...   \n",
       "218198  ./dataset_class/data_folder/ChatGPT_SDDB2/chat...   \n",
       "218199  ./dataset_class/data_folder/ChatGPT_SDDB2/chat...   \n",
       "218200  ./dataset_class/data_folder/ChatGPT_SDDB2/chat...   \n",
       "218201  ./dataset_class/data_folder/ChatGPT_SDDB2/chat...   \n",
       "\n",
       "                                                   prompt  fold  style_index  \n",
       "0           only memories remain, trending on artstation      1       149562  \n",
       "1       a painting by edward hopper of a group of men ...     2       209980  \n",
       "2       a painting by edward hopper of a glowing human...     3       160493  \n",
       "3       a painting by edward hopper of the angel of de...     2       194815  \n",
       "4       a painting by edward hopper of a group of four...     0       193190  \n",
       "...                                                   ...   ...          ...  \n",
       "218197  A vintage photograph of a jazz band made up of...     4       177672  \n",
       "218198  A vibrant collage depicting a cyborg giraffe, ...     2       171345  \n",
       "218199  A minimalist ink drawing of a yeti and a polar...     2       195483  \n",
       "218200  A surrealist portrayal of a dreamy sky filled ...     1        82530  \n",
       "218201  A lively scene of a roller-skating marathon wi...     0       145484  \n",
       "\n",
       "[218202 rows x 4 columns]"
      ]
     },
     "execution_count": 9,
     "metadata": {},
     "output_type": "execute_result"
    }
   ],
   "source": [
    "df = pd.read_csv('./dataset_class/final_final_prompt.csv')\n",
    "df"
   ]
  },
  {
   "cell_type": "code",
   "execution_count": null,
   "id": "eaa8b677-7181-44f3-8a4e-9423fc82ffb3",
   "metadata": {},
   "outputs": [
    {
     "data": {
      "application/vnd.jupyter.widget-view+json": {
       "model_id": "84c736137cf14587af5447dbc56f2c27",
       "version_major": 2,
       "version_minor": 0
      },
      "text/plain": [
       "  0%|          | 0/218202 [00:00<?, ?it/s]"
      ]
     },
     "metadata": {},
     "output_type": "display_data"
    }
   ],
   "source": [
    "image_processor = CLIPImageProcessor.from_pretrained(CFG.model)\n",
    "image_list, pixel_value_list = [], []\n",
    "for i in tqdm(range(len(df))):\n",
    "    image_index = df.iloc[i, 0]\n",
    "    image = rasterio.open(df.iloc[i, 0])\n",
    "    tensor_image = image.read(resampling=Resampling.bilinear).transpose(1, 2, 0)\n",
    "    clip_image = image_processor(tensor_image)['pixel_values']  \n",
    "    \n",
    "    image_list.append(image_index)\n",
    "    pixel_value_list.append(clip_image)"
   ]
  },
  {
   "cell_type": "code",
   "execution_count": null,
   "id": "a342d4d5-527d-4716-b6f1-ed77bb7b6277",
   "metadata": {},
   "outputs": [],
   "source": [
    "torch.save(image_list, 'clip_image_list.pth')\n",
    "torch.save(pixel_value_list, 'clip_pixel.pth')"
   ]
  },
  {
   "cell_type": "code",
   "execution_count": null,
   "id": "5afc6f06-7798-4b14-b166-4049e8b193df",
   "metadata": {},
   "outputs": [],
   "source": [
    "df = pd.read_csv('./dataset_class/final_final_prompt.csv')\n",
    "df['clip_index'] = -1"
   ]
  },
  {
   "cell_type": "code",
   "execution_count": null,
   "id": "dca3e15b-d24f-4f4f-9dc4-aafe6053b37a",
   "metadata": {},
   "outputs": [],
   "source": [
    "clip_name_list = torch.load('lip_image_list.pth')\n",
    "clip_pixel_list = torch.load('clip_pixel.pth')"
   ]
  },
  {
   "cell_type": "code",
   "execution_count": null,
   "id": "ff1b4191-26ee-475b-9bff-f1f8db532921",
   "metadata": {},
   "outputs": [],
   "source": [
    "new_name, pixel_idx, real_pixel = [], [], []\n",
    "embedding_dict = {}\n",
    "count = 0\n",
    "for i in range(len(clip_name_list)):\n",
    "    for j in range(len(clip_name_list[i])):\n",
    "        new_name.append(clip_name_list[i][j])\n",
    "        real_pixel.append(clip_pixel_list[i][j])\n",
    "        pixel_idx.append(count)\n",
    "        count += 1"
   ]
  }
 ],
 "metadata": {
  "kernelspec": {
   "display_name": "Python 3 (ipykernel)",
   "language": "python",
   "name": "python3"
  },
  "language_info": {
   "codemirror_mode": {
    "name": "ipython",
    "version": 3
   },
   "file_extension": ".py",
   "mimetype": "text/x-python",
   "name": "python",
   "nbconvert_exporter": "python",
   "pygments_lexer": "ipython3",
   "version": "3.9.13"
  }
 },
 "nbformat": 4,
 "nbformat_minor": 5
}
