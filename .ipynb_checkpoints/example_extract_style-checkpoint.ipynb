{
 "cells": [
  {
   "cell_type": "code",
   "execution_count": 1,
   "id": "2ab09063-7079-4a2f-b240-3a588e8b13c4",
   "metadata": {
    "ExecuteTime": {
     "end_time": "2023-05-14T13:29:27.802948085Z",
     "start_time": "2023-05-14T13:29:26.950387531Z"
    }
   },
   "outputs": [],
   "source": [
    "import torch\n",
    "import torch.nn.functional as F\n",
    "import torch.nn as nn\n",
    "import numpy as np\n",
    "import pandas as pd\n",
    "from sklearn.metrics.pairwise import cosine_similarity"
   ]
  },
  {
   "cell_type": "code",
   "execution_count": 2,
   "id": "5beb87f7-b4b5-4361-a9b1-503364a0ab6d",
   "metadata": {},
   "outputs": [
    {
     "data": {
      "text/plain": [
       "tensor(0.0312)"
      ]
     },
     "execution_count": 2,
     "metadata": {},
     "output_type": "execute_result"
    }
   ],
   "source": [
    "input1 = torch.randn(1, 384)\n",
    "input2 = torch.randn(1, 384)\n",
    "cos = nn.CosineSimilarity(dim=0, eps=1e-6)\n",
    "cos(input1, input2).mean()"
   ]
  },
  {
   "cell_type": "code",
   "execution_count": 3,
   "id": "b4c05689-7a4a-442a-95fa-acf8236ec82c",
   "metadata": {
    "ExecuteTime": {
     "end_time": "2023-05-14T13:29:28.193106984Z",
     "start_time": "2023-05-14T13:29:27.802105364Z"
    }
   },
   "outputs": [
    {
     "data": {
      "text/html": [
       "<div>\n",
       "<style scoped>\n",
       "    .dataframe tbody tr th:only-of-type {\n",
       "        vertical-align: middle;\n",
       "    }\n",
       "\n",
       "    .dataframe tbody tr th {\n",
       "        vertical-align: top;\n",
       "    }\n",
       "\n",
       "    .dataframe thead th {\n",
       "        text-align: right;\n",
       "    }\n",
       "</style>\n",
       "<table border=\"1\" class=\"dataframe\">\n",
       "  <thead>\n",
       "    <tr style=\"text-align: right;\">\n",
       "      <th></th>\n",
       "      <th>image_name</th>\n",
       "      <th>prompt</th>\n",
       "      <th>fold</th>\n",
       "      <th>style_index</th>\n",
       "    </tr>\n",
       "  </thead>\n",
       "  <tbody>\n",
       "    <tr>\n",
       "      <th>0</th>\n",
       "      <td>./dataset_class/data_folder/SDDB2_2M_75/SDDB2-...</td>\n",
       "      <td>only memories remain, trending on artstation</td>\n",
       "      <td>1</td>\n",
       "      <td>149562</td>\n",
       "    </tr>\n",
       "    <tr>\n",
       "      <th>1</th>\n",
       "      <td>./dataset_class/data_folder/SDDB2_2M_75/SDDB2-...</td>\n",
       "      <td>a painting by edward hopper of a group of men ...</td>\n",
       "      <td>2</td>\n",
       "      <td>209980</td>\n",
       "    </tr>\n",
       "    <tr>\n",
       "      <th>2</th>\n",
       "      <td>./dataset_class/data_folder/SDDB2_2M_75/SDDB2-...</td>\n",
       "      <td>a painting by edward hopper of a glowing human...</td>\n",
       "      <td>3</td>\n",
       "      <td>160493</td>\n",
       "    </tr>\n",
       "    <tr>\n",
       "      <th>3</th>\n",
       "      <td>./dataset_class/data_folder/SDDB2_2M_75/SDDB2-...</td>\n",
       "      <td>a painting by edward hopper of the angel of de...</td>\n",
       "      <td>2</td>\n",
       "      <td>194815</td>\n",
       "    </tr>\n",
       "    <tr>\n",
       "      <th>4</th>\n",
       "      <td>./dataset_class/data_folder/SDDB2_2M_75/SDDB2-...</td>\n",
       "      <td>a painting by edward hopper of a group of four...</td>\n",
       "      <td>0</td>\n",
       "      <td>193190</td>\n",
       "    </tr>\n",
       "    <tr>\n",
       "      <th>...</th>\n",
       "      <td>...</td>\n",
       "      <td>...</td>\n",
       "      <td>...</td>\n",
       "      <td>...</td>\n",
       "    </tr>\n",
       "    <tr>\n",
       "      <th>218197</th>\n",
       "      <td>./dataset_class/data_folder/ChatGPT_SDDB2/chat...</td>\n",
       "      <td>A vintage photograph of a jazz band made up of...</td>\n",
       "      <td>4</td>\n",
       "      <td>177672</td>\n",
       "    </tr>\n",
       "    <tr>\n",
       "      <th>218198</th>\n",
       "      <td>./dataset_class/data_folder/ChatGPT_SDDB2/chat...</td>\n",
       "      <td>A vibrant collage depicting a cyborg giraffe, ...</td>\n",
       "      <td>2</td>\n",
       "      <td>171345</td>\n",
       "    </tr>\n",
       "    <tr>\n",
       "      <th>218199</th>\n",
       "      <td>./dataset_class/data_folder/ChatGPT_SDDB2/chat...</td>\n",
       "      <td>A minimalist ink drawing of a yeti and a polar...</td>\n",
       "      <td>2</td>\n",
       "      <td>195483</td>\n",
       "    </tr>\n",
       "    <tr>\n",
       "      <th>218200</th>\n",
       "      <td>./dataset_class/data_folder/ChatGPT_SDDB2/chat...</td>\n",
       "      <td>A surrealist portrayal of a dreamy sky filled ...</td>\n",
       "      <td>1</td>\n",
       "      <td>82530</td>\n",
       "    </tr>\n",
       "    <tr>\n",
       "      <th>218201</th>\n",
       "      <td>./dataset_class/data_folder/ChatGPT_SDDB2/chat...</td>\n",
       "      <td>A lively scene of a roller-skating marathon wi...</td>\n",
       "      <td>0</td>\n",
       "      <td>145484</td>\n",
       "    </tr>\n",
       "  </tbody>\n",
       "</table>\n",
       "<p>218202 rows × 4 columns</p>\n",
       "</div>"
      ],
      "text/plain": [
       "                                               image_name  \\\n",
       "0       ./dataset_class/data_folder/SDDB2_2M_75/SDDB2-...   \n",
       "1       ./dataset_class/data_folder/SDDB2_2M_75/SDDB2-...   \n",
       "2       ./dataset_class/data_folder/SDDB2_2M_75/SDDB2-...   \n",
       "3       ./dataset_class/data_folder/SDDB2_2M_75/SDDB2-...   \n",
       "4       ./dataset_class/data_folder/SDDB2_2M_75/SDDB2-...   \n",
       "...                                                   ...   \n",
       "218197  ./dataset_class/data_folder/ChatGPT_SDDB2/chat...   \n",
       "218198  ./dataset_class/data_folder/ChatGPT_SDDB2/chat...   \n",
       "218199  ./dataset_class/data_folder/ChatGPT_SDDB2/chat...   \n",
       "218200  ./dataset_class/data_folder/ChatGPT_SDDB2/chat...   \n",
       "218201  ./dataset_class/data_folder/ChatGPT_SDDB2/chat...   \n",
       "\n",
       "                                                   prompt  fold  style_index  \n",
       "0           only memories remain, trending on artstation      1       149562  \n",
       "1       a painting by edward hopper of a group of men ...     2       209980  \n",
       "2       a painting by edward hopper of a glowing human...     3       160493  \n",
       "3       a painting by edward hopper of the angel of de...     2       194815  \n",
       "4       a painting by edward hopper of a group of four...     0       193190  \n",
       "...                                                   ...   ...          ...  \n",
       "218197  A vintage photograph of a jazz band made up of...     4       177672  \n",
       "218198  A vibrant collage depicting a cyborg giraffe, ...     2       171345  \n",
       "218199  A minimalist ink drawing of a yeti and a polar...     2       195483  \n",
       "218200  A surrealist portrayal of a dreamy sky filled ...     1        82530  \n",
       "218201  A lively scene of a roller-skating marathon wi...     0       145484  \n",
       "\n",
       "[218202 rows x 4 columns]"
      ]
     },
     "execution_count": 3,
     "metadata": {},
     "output_type": "execute_result"
    }
   ],
   "source": [
    "df = pd.read_csv('./dataset_class/final_final_prompt.csv')\n",
    "df"
   ]
  },
  {
   "cell_type": "code",
   "execution_count": 6,
   "id": "a7753e5c-f75a-47fc-9e99-ff2712f0deef",
   "metadata": {},
   "outputs": [
    {
     "data": {
      "text/plain": [
       "'only memories remain, trending on artstation '"
      ]
     },
     "execution_count": 6,
     "metadata": {},
     "output_type": "execute_result"
    }
   ],
   "source": [
    "df.prompt[0]"
   ]
  },
  {
   "cell_type": "code",
   "execution_count": 3,
   "id": "745abec9-5c9c-4e3d-ab4f-bbdb1d2ac033",
   "metadata": {},
   "outputs": [
    {
     "name": "stdout",
     "output_type": "stream",
     "text": [
      "<class 'pandas.core.frame.DataFrame'>\n",
      "RangeIndex: 218202 entries, 0 to 218201\n",
      "Data columns (total 4 columns):\n",
      " #   Column       Non-Null Count   Dtype \n",
      "---  ------       --------------   ----- \n",
      " 0   image_name   218202 non-null  object\n",
      " 1   prompt       218202 non-null  object\n",
      " 2   fold         218202 non-null  int64 \n",
      " 3   style_index  218202 non-null  int64 \n",
      "dtypes: int64(2), object(2)\n",
      "memory usage: 6.7+ MB\n"
     ]
    }
   ],
   "source": [
    "df.info()"
   ]
  },
  {
   "cell_type": "code",
   "execution_count": 16,
   "id": "413a30a8-86bc-4d01-9a70-7fbe04592deb",
   "metadata": {},
   "outputs": [],
   "source": [
    "df = pd.read_csv('./dataset_class/final_downsample_prompt.csv')\n",
    "df['style_index'] = -1"
   ]
  },
  {
   "cell_type": "code",
   "execution_count": 17,
   "id": "8c4d3cb0-8cce-4969-8b1f-7f2d8276e4c6",
   "metadata": {},
   "outputs": [],
   "source": [
    "image_name_list = torch.load('style_image_name.pth')\n",
    "embedding_list = torch.load('style_embedding_name.pth')"
   ]
  },
  {
   "cell_type": "code",
   "execution_count": 18,
   "id": "b1ee8f53-330d-471e-a8dc-844a56572a96",
   "metadata": {},
   "outputs": [],
   "source": [
    "new_name, new_embedding, real_embedding = [], [], []\n",
    "embedding_dict = {}\n",
    "count = 0\n",
    "for i in range(len(image_name_list)):\n",
    "    for j in range(len(image_name_list[i])):\n",
    "        new_name.append(image_name_list[i][j])\n",
    "        real_embedding.append(embedding_list[i][j])\n",
    "        new_embedding.append(count)\n",
    "        count += 1"
   ]
  },
  {
   "cell_type": "code",
   "execution_count": 19,
   "id": "698c0269-398d-499a-9f70-c40e3471ce8c",
   "metadata": {},
   "outputs": [],
   "source": [
    "torch.save(real_embedding, 'embedding_table.pth')"
   ]
  },
  {
   "cell_type": "code",
   "execution_count": 20,
   "id": "c21b4818-8260-4699-9388-646f4690c173",
   "metadata": {},
   "outputs": [],
   "source": [
    "embedding_dict = {k: v for k, v in zip(new_name, new_embedding)}"
   ]
  },
  {
   "cell_type": "code",
   "execution_count": 14,
   "id": "b8df7749-e7a7-4bd6-829e-a987282c1043",
   "metadata": {},
   "outputs": [
    {
     "data": {
      "text/plain": [
       "array([-0.09813651, -0.03360796, -0.21888989, ...,  0.09342252,\n",
       "       -0.0084492 , -0.4311523 ], dtype=float32)"
      ]
     },
     "execution_count": 14,
     "metadata": {},
     "output_type": "execute_result"
    }
   ],
   "source": [
    "real_embedding[df.iloc[0, 3]]"
   ]
  },
  {
   "cell_type": "code",
   "execution_count": 21,
   "id": "ee9311e9-c020-4679-8af5-d65023d08dc0",
   "metadata": {},
   "outputs": [
    {
     "data": {
      "text/html": [
       "<div>\n",
       "<style scoped>\n",
       "    .dataframe tbody tr th:only-of-type {\n",
       "        vertical-align: middle;\n",
       "    }\n",
       "\n",
       "    .dataframe tbody tr th {\n",
       "        vertical-align: top;\n",
       "    }\n",
       "\n",
       "    .dataframe thead th {\n",
       "        text-align: right;\n",
       "    }\n",
       "</style>\n",
       "<table border=\"1\" class=\"dataframe\">\n",
       "  <thead>\n",
       "    <tr style=\"text-align: right;\">\n",
       "      <th></th>\n",
       "      <th>image_name</th>\n",
       "      <th>prompt</th>\n",
       "      <th>fold</th>\n",
       "      <th>style_index</th>\n",
       "    </tr>\n",
       "  </thead>\n",
       "  <tbody>\n",
       "    <tr>\n",
       "      <th>0</th>\n",
       "      <td>./dataset_class/data_folder/SDDB2_2M_75/SDDB2-...</td>\n",
       "      <td>only memories remain, trending on artstation</td>\n",
       "      <td>1</td>\n",
       "      <td>149562</td>\n",
       "    </tr>\n",
       "    <tr>\n",
       "      <th>1</th>\n",
       "      <td>./dataset_class/data_folder/SDDB2_2M_75/SDDB2-...</td>\n",
       "      <td>a painting by edward hopper of a group of men ...</td>\n",
       "      <td>2</td>\n",
       "      <td>209980</td>\n",
       "    </tr>\n",
       "    <tr>\n",
       "      <th>2</th>\n",
       "      <td>./dataset_class/data_folder/SDDB2_2M_75/SDDB2-...</td>\n",
       "      <td>a painting by edward hopper of a glowing human...</td>\n",
       "      <td>3</td>\n",
       "      <td>160493</td>\n",
       "    </tr>\n",
       "    <tr>\n",
       "      <th>3</th>\n",
       "      <td>./dataset_class/data_folder/SDDB2_2M_75/SDDB2-...</td>\n",
       "      <td>a painting by edward hopper of the angel of de...</td>\n",
       "      <td>2</td>\n",
       "      <td>194815</td>\n",
       "    </tr>\n",
       "    <tr>\n",
       "      <th>4</th>\n",
       "      <td>./dataset_class/data_folder/SDDB2_2M_75/SDDB2-...</td>\n",
       "      <td>a painting by edward hopper of a group of four...</td>\n",
       "      <td>0</td>\n",
       "      <td>193190</td>\n",
       "    </tr>\n",
       "    <tr>\n",
       "      <th>...</th>\n",
       "      <td>...</td>\n",
       "      <td>...</td>\n",
       "      <td>...</td>\n",
       "      <td>...</td>\n",
       "    </tr>\n",
       "    <tr>\n",
       "      <th>218197</th>\n",
       "      <td>./dataset_class/data_folder/ChatGPT_SDDB2/chat...</td>\n",
       "      <td>A vintage photograph of a jazz band made up of...</td>\n",
       "      <td>4</td>\n",
       "      <td>177672</td>\n",
       "    </tr>\n",
       "    <tr>\n",
       "      <th>218198</th>\n",
       "      <td>./dataset_class/data_folder/ChatGPT_SDDB2/chat...</td>\n",
       "      <td>A vibrant collage depicting a cyborg giraffe, ...</td>\n",
       "      <td>2</td>\n",
       "      <td>171345</td>\n",
       "    </tr>\n",
       "    <tr>\n",
       "      <th>218199</th>\n",
       "      <td>./dataset_class/data_folder/ChatGPT_SDDB2/chat...</td>\n",
       "      <td>A minimalist ink drawing of a yeti and a polar...</td>\n",
       "      <td>2</td>\n",
       "      <td>195483</td>\n",
       "    </tr>\n",
       "    <tr>\n",
       "      <th>218200</th>\n",
       "      <td>./dataset_class/data_folder/ChatGPT_SDDB2/chat...</td>\n",
       "      <td>A surrealist portrayal of a dreamy sky filled ...</td>\n",
       "      <td>1</td>\n",
       "      <td>82530</td>\n",
       "    </tr>\n",
       "    <tr>\n",
       "      <th>218201</th>\n",
       "      <td>./dataset_class/data_folder/ChatGPT_SDDB2/chat...</td>\n",
       "      <td>A lively scene of a roller-skating marathon wi...</td>\n",
       "      <td>0</td>\n",
       "      <td>145484</td>\n",
       "    </tr>\n",
       "  </tbody>\n",
       "</table>\n",
       "<p>218202 rows × 4 columns</p>\n",
       "</div>"
      ],
      "text/plain": [
       "                                               image_name  \\\n",
       "0       ./dataset_class/data_folder/SDDB2_2M_75/SDDB2-...   \n",
       "1       ./dataset_class/data_folder/SDDB2_2M_75/SDDB2-...   \n",
       "2       ./dataset_class/data_folder/SDDB2_2M_75/SDDB2-...   \n",
       "3       ./dataset_class/data_folder/SDDB2_2M_75/SDDB2-...   \n",
       "4       ./dataset_class/data_folder/SDDB2_2M_75/SDDB2-...   \n",
       "...                                                   ...   \n",
       "218197  ./dataset_class/data_folder/ChatGPT_SDDB2/chat...   \n",
       "218198  ./dataset_class/data_folder/ChatGPT_SDDB2/chat...   \n",
       "218199  ./dataset_class/data_folder/ChatGPT_SDDB2/chat...   \n",
       "218200  ./dataset_class/data_folder/ChatGPT_SDDB2/chat...   \n",
       "218201  ./dataset_class/data_folder/ChatGPT_SDDB2/chat...   \n",
       "\n",
       "                                                   prompt  fold  style_index  \n",
       "0           only memories remain, trending on artstation      1       149562  \n",
       "1       a painting by edward hopper of a group of men ...     2       209980  \n",
       "2       a painting by edward hopper of a glowing human...     3       160493  \n",
       "3       a painting by edward hopper of the angel of de...     2       194815  \n",
       "4       a painting by edward hopper of a group of four...     0       193190  \n",
       "...                                                   ...   ...          ...  \n",
       "218197  A vintage photograph of a jazz band made up of...     4       177672  \n",
       "218198  A vibrant collage depicting a cyborg giraffe, ...     2       171345  \n",
       "218199  A minimalist ink drawing of a yeti and a polar...     2       195483  \n",
       "218200  A surrealist portrayal of a dreamy sky filled ...     1        82530  \n",
       "218201  A lively scene of a roller-skating marathon wi...     0       145484  \n",
       "\n",
       "[218202 rows x 4 columns]"
      ]
     },
     "execution_count": 21,
     "metadata": {},
     "output_type": "execute_result"
    }
   ],
   "source": [
    "for i in range(len(df)):\n",
    "    df.iloc[i, 3] = embedding_dict[df.iloc[i, 0]]\n",
    "df"
   ]
  },
  {
   "cell_type": "code",
   "execution_count": 22,
   "id": "b1f51702-c3ee-45ee-a2cb-943ea5600959",
   "metadata": {},
   "outputs": [],
   "source": [
    "df.to_csv('final_final_prompt.csv', index=False)"
   ]
  },
  {
   "cell_type": "code",
   "execution_count": 10,
   "id": "f9dca4f0-a80d-4741-8259-8f2e564a9c12",
   "metadata": {},
   "outputs": [
    {
     "data": {
      "text/html": [
       "<div>\n",
       "<style scoped>\n",
       "    .dataframe tbody tr th:only-of-type {\n",
       "        vertical-align: middle;\n",
       "    }\n",
       "\n",
       "    .dataframe tbody tr th {\n",
       "        vertical-align: top;\n",
       "    }\n",
       "\n",
       "    .dataframe thead th {\n",
       "        text-align: right;\n",
       "    }\n",
       "</style>\n",
       "<table border=\"1\" class=\"dataframe\">\n",
       "  <thead>\n",
       "    <tr style=\"text-align: right;\">\n",
       "      <th></th>\n",
       "      <th>image_path</th>\n",
       "      <th>style_index</th>\n",
       "    </tr>\n",
       "  </thead>\n",
       "  <tbody>\n",
       "    <tr>\n",
       "      <th>0</th>\n",
       "      <td>a</td>\n",
       "      <td>NaN</td>\n",
       "    </tr>\n",
       "    <tr>\n",
       "      <th>1</th>\n",
       "      <td>b</td>\n",
       "      <td>NaN</td>\n",
       "    </tr>\n",
       "    <tr>\n",
       "      <th>2</th>\n",
       "      <td>c</td>\n",
       "      <td>NaN</td>\n",
       "    </tr>\n",
       "    <tr>\n",
       "      <th>3</th>\n",
       "      <td>d</td>\n",
       "      <td>NaN</td>\n",
       "    </tr>\n",
       "    <tr>\n",
       "      <th>4</th>\n",
       "      <td>e</td>\n",
       "      <td>NaN</td>\n",
       "    </tr>\n",
       "  </tbody>\n",
       "</table>\n",
       "</div>"
      ],
      "text/plain": [
       "  image_path style_index\n",
       "0          a         NaN\n",
       "1          b         NaN\n",
       "2          c         NaN\n",
       "3          d         NaN\n",
       "4          e         NaN"
      ]
     },
     "execution_count": 10,
     "metadata": {},
     "output_type": "execute_result"
    }
   ],
   "source": [
    "path_list = ['b', 'c', 'e', 'a', 'd']\n",
    "df = pd.DataFrame(columns=['image_path', 'style_index'])\n",
    "df['image_path'] = ['a', 'b', 'c', 'd', 'e']\n",
    "df"
   ]
  },
  {
   "cell_type": "code",
   "execution_count": 3,
   "id": "406a9970-c471-4545-b0ab-3a2b1c07f38a",
   "metadata": {},
   "outputs": [
    {
     "data": {
      "text/plain": [
       "tensor([1, 2, 3, 4, 5])"
      ]
     },
     "execution_count": 3,
     "metadata": {},
     "output_type": "execute_result"
    }
   ],
   "source": [
    "test = torch.as_tensor([1,2,3,4,5])\n",
    "test"
   ]
  },
  {
   "cell_type": "code",
   "execution_count": 7,
   "id": "90c18207-f62e-42da-91d4-d29176e30307",
   "metadata": {},
   "outputs": [],
   "source": [
    "torch.save(test, 'test.pth')"
   ]
  },
  {
   "cell_type": "code",
   "execution_count": 16,
   "id": "d0dd96a8-dbbd-4c74-a05d-f73690a4498f",
   "metadata": {},
   "outputs": [],
   "source": [
    "embedding = torch.load('test.pth')\n",
    "index_list = [i for i in range(len(embedding))]"
   ]
  },
  {
   "cell_type": "code",
   "execution_count": 17,
   "id": "20d0a565-3ebc-4c58-b5b4-d0ab3f1d9901",
   "metadata": {},
   "outputs": [],
   "source": [
    "embedding_dict = {k: v for k, v in zip(path_list, index_list)}"
   ]
  },
  {
   "cell_type": "code",
   "execution_count": 18,
   "id": "905534c7-b4a9-469e-9dd5-b7a854a3ddcb",
   "metadata": {},
   "outputs": [
    {
     "data": {
      "text/plain": [
       "{'b': 0, 'c': 1, 'e': 2, 'a': 3, 'd': 4}"
      ]
     },
     "execution_count": 18,
     "metadata": {},
     "output_type": "execute_result"
    }
   ],
   "source": [
    "embedding_dict"
   ]
  },
  {
   "cell_type": "code",
   "execution_count": 19,
   "id": "e502fb04-c4ca-48b0-ab97-1130c35125aa",
   "metadata": {},
   "outputs": [
    {
     "data": {
      "text/html": [
       "<div>\n",
       "<style scoped>\n",
       "    .dataframe tbody tr th:only-of-type {\n",
       "        vertical-align: middle;\n",
       "    }\n",
       "\n",
       "    .dataframe tbody tr th {\n",
       "        vertical-align: top;\n",
       "    }\n",
       "\n",
       "    .dataframe thead th {\n",
       "        text-align: right;\n",
       "    }\n",
       "</style>\n",
       "<table border=\"1\" class=\"dataframe\">\n",
       "  <thead>\n",
       "    <tr style=\"text-align: right;\">\n",
       "      <th></th>\n",
       "      <th>image_path</th>\n",
       "      <th>style_index</th>\n",
       "    </tr>\n",
       "  </thead>\n",
       "  <tbody>\n",
       "    <tr>\n",
       "      <th>0</th>\n",
       "      <td>a</td>\n",
       "      <td>3</td>\n",
       "    </tr>\n",
       "    <tr>\n",
       "      <th>1</th>\n",
       "      <td>b</td>\n",
       "      <td>0</td>\n",
       "    </tr>\n",
       "    <tr>\n",
       "      <th>2</th>\n",
       "      <td>c</td>\n",
       "      <td>1</td>\n",
       "    </tr>\n",
       "    <tr>\n",
       "      <th>3</th>\n",
       "      <td>d</td>\n",
       "      <td>4</td>\n",
       "    </tr>\n",
       "    <tr>\n",
       "      <th>4</th>\n",
       "      <td>e</td>\n",
       "      <td>2</td>\n",
       "    </tr>\n",
       "  </tbody>\n",
       "</table>\n",
       "</div>"
      ],
      "text/plain": [
       "  image_path style_index\n",
       "0          a           3\n",
       "1          b           0\n",
       "2          c           1\n",
       "3          d           4\n",
       "4          e           2"
      ]
     },
     "execution_count": 19,
     "metadata": {},
     "output_type": "execute_result"
    }
   ],
   "source": [
    "for i in range(len(df)):\n",
    "    df.iloc[i, 1] = embedding_dict[df.iloc[i, 0]]\n",
    "df"
   ]
  },
  {
   "cell_type": "code",
   "execution_count": 20,
   "id": "aadac17b-4e1d-464c-8796-4d960998752f",
   "metadata": {},
   "outputs": [
    {
     "data": {
      "text/plain": [
       "tensor(1)"
      ]
     },
     "execution_count": 20,
     "metadata": {},
     "output_type": "execute_result"
    }
   ],
   "source": [
    "embedding[df.iloc[1,1]]"
   ]
  },
  {
   "cell_type": "code",
   "execution_count": 21,
   "id": "6fffacba-cb1b-4dda-9e47-6e10e5a2429e",
   "metadata": {},
   "outputs": [],
   "source": [
    "torch.save(embedding_dict, 'dict.pth')"
   ]
  },
  {
   "cell_type": "code",
   "execution_count": 22,
   "id": "bacc00df-e82b-482b-8038-d9df3c68059d",
   "metadata": {},
   "outputs": [
    {
     "data": {
      "text/plain": [
       "{'b': 0, 'c': 1, 'e': 2, 'a': 3, 'd': 4}"
      ]
     },
     "execution_count": 22,
     "metadata": {},
     "output_type": "execute_result"
    }
   ],
   "source": [
    "torch.load('dict.pth')"
   ]
  },
  {
   "cell_type": "code",
   "execution_count": null,
   "id": "e59ae428-dad3-43e6-ad4f-b87d27bfbebc",
   "metadata": {},
   "outputs": [],
   "source": []
  }
 ],
 "metadata": {
  "kernelspec": {
   "display_name": "Python 3 (ipykernel)",
   "language": "python",
   "name": "python3"
  },
  "language_info": {
   "codemirror_mode": {
    "name": "ipython",
    "version": 3
   },
   "file_extension": ".py",
   "mimetype": "text/x-python",
   "name": "python",
   "nbconvert_exporter": "python",
   "pygments_lexer": "ipython3",
   "version": "3.9.13"
  }
 },
 "nbformat": 4,
 "nbformat_minor": 5
}
