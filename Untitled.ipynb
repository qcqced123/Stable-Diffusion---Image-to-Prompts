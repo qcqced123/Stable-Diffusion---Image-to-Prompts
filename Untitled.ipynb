{
 "cells": [
  {
   "cell_type": "code",
   "execution_count": 3,
   "id": "b3aa2cbe-b6f0-482c-b370-3bd5e991abd1",
   "metadata": {},
   "outputs": [],
   "source": [
    "import torch\n",
    "from transformers import AutoConfig, AutoModel"
   ]
  },
  {
   "cell_type": "code",
   "execution_count": 7,
   "id": "07b3f482-c26e-43df-9f0c-b9de94eb4106",
   "metadata": {},
   "outputs": [
    {
     "data": {
      "text/plain": [
       "torch.Size([16, 197, 768])"
      ]
     },
     "execution_count": 7,
     "metadata": {},
     "output_type": "execute_result"
    }
   ],
   "source": [
    "input_mask_expanded = torch.zeros(16, 197, 768)\n",
    "input_mask_expanded.size()"
   ]
  },
  {
   "cell_type": "code",
   "execution_count": 25,
   "id": "346be2c1-e7fe-4a4c-ade3-aa61c49b8cfb",
   "metadata": {},
   "outputs": [
    {
     "data": {
      "text/plain": [
       "torch.Size([16, 768])"
      ]
     },
     "execution_count": 25,
     "metadata": {},
     "output_type": "execute_result"
    }
   ],
   "source": [
    "sum_embedding = torch.zeros(16, 197, 768)\n",
    "sum_embedding = sum_embedding.sum(1)\n",
    "sum_embedding.size()"
   ]
  },
  {
   "cell_type": "code",
   "execution_count": 22,
   "id": "13043085-8593-41d4-92fe-733a6b48377d",
   "metadata": {},
   "outputs": [
    {
     "data": {
      "text/plain": [
       "torch.Size([16, 768])"
      ]
     },
     "execution_count": 22,
     "metadata": {},
     "output_type": "execute_result"
    }
   ],
   "source": [
    "sum_mask = input_mask_expanded.sum(1)\n",
    "sum_mask = torch.clamp(sum_mask, min=1.5)\n",
    "sum_mask.size()"
   ]
  },
  {
   "cell_type": "code",
   "execution_count": 21,
   "id": "80e4dad0-ee6e-41a1-9e4c-a535d3bd27bf",
   "metadata": {},
   "outputs": [
    {
     "data": {
      "text/plain": [
       "tensor([[1.6667, 1.6667, 1.6667,  ..., 1.6667, 1.6667, 1.6667],\n",
       "        [1.6667, 1.6667, 1.6667,  ..., 1.6667, 1.6667, 1.6667],\n",
       "        [1.6667, 1.6667, 1.6667,  ..., 1.6667, 1.6667, 1.6667],\n",
       "        ...,\n",
       "        [1.6667, 1.6667, 1.6667,  ..., 1.6667, 1.6667, 1.6667],\n",
       "        [1.6667, 1.6667, 1.6667,  ..., 1.6667, 1.6667, 1.6667],\n",
       "        [1.6667, 1.6667, 1.6667,  ..., 1.6667, 1.6667, 1.6667]])"
      ]
     },
     "execution_count": 21,
     "metadata": {},
     "output_type": "execute_result"
    }
   ],
   "source": [
    "tmp_embeddings = sum_embedding / sum_mask\n",
    "tmp_embeddings"
   ]
  },
  {
   "cell_type": "code",
   "execution_count": null,
   "id": "d2e4f003-f741-4667-b653-87dc4db9a0d2",
   "metadata": {},
   "outputs": [],
   "source": [
    "tmp_embeddings.size()"
   ]
  },
  {
   "cell_type": "code",
   "execution_count": 27,
   "id": "4b28d0e8-285e-409f-920f-26567311f0a8",
   "metadata": {},
   "outputs": [
    {
     "data": {
      "text/plain": [
       "torch.Size([16, 768])"
      ]
     },
     "execution_count": 27,
     "metadata": {},
     "output_type": "execute_result"
    }
   ],
   "source": [
    "sum_embedding = torch.zeros(16, 197, 768)\n",
    "torch.mean(sum_embedding, 1).size()"
   ]
  },
  {
   "cell_type": "code",
   "execution_count": 1,
   "id": "b1ae0a9d-8e58-43bb-b0d2-ac259bcdd4a0",
   "metadata": {},
   "outputs": [],
   "source": [
    "import timm, torch\n",
    "style_model = timm.create_model(\n",
    "            'convnext_base',\n",
    "            pretrained=True,\n",
    "            features_only=True, # will be drop head\n",
    "        )\n",
    "device = torch.device('cuda:0' if torch.cuda.is_available() else 'cpu')\n",
    "style_model = style_model.to(device)"
   ]
  },
  {
   "cell_type": "code",
   "execution_count": 11,
   "id": "86cf3755-7f2d-4ac3-ac3f-b7ea5baaee65",
   "metadata": {},
   "outputs": [
    {
     "data": {
      "text/plain": [
       "4"
      ]
     },
     "execution_count": 11,
     "metadata": {},
     "output_type": "execute_result"
    }
   ],
   "source": [
    "test = torch.randn(1, 3, 512, 512)\n",
    "test = test.to(device)\n",
    "result = style_model(test)\n",
    "len(result[)"
   ]
  },
  {
   "cell_type": "code",
   "execution_count": null,
   "id": "b752e024-9873-48d4-9511-391d27ecd844",
   "metadata": {},
   "outputs": [],
   "source": []
  }
 ],
 "metadata": {
  "kernelspec": {
   "display_name": "Python 3 (ipykernel)",
   "language": "python",
   "name": "python3"
  },
  "language_info": {
   "codemirror_mode": {
    "name": "ipython",
    "version": 3
   },
   "file_extension": ".py",
   "mimetype": "text/x-python",
   "name": "python",
   "nbconvert_exporter": "python",
   "pygments_lexer": "ipython3",
   "version": "3.9.13"
  }
 },
 "nbformat": 4,
 "nbformat_minor": 5
}
